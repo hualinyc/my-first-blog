{
  "cells": [
    {
      "cell_type": "markdown",
      "metadata": {
        "id": "view-in-github",
        "colab_type": "text"
      },
      "source": [
        "<a href=\"https://colab.research.google.com/github/hualinyc/my-first-blog/blob/master/templates/aistudio_gemini_prompt_freeform.ipynb\" target=\"_parent\"><img src=\"https://colab.research.google.com/assets/colab-badge.svg\" alt=\"Open In Colab\"/></a>"
      ]
    },
    {
      "cell_type": "markdown",
      "metadata": {
        "id": "Tce3stUlHN0L"
      },
      "source": [
        "##### Copyright 2023 Google LLC"
      ]
    },
    {
      "cell_type": "code",
      "execution_count": null,
      "metadata": {
        "cellView": "form",
        "id": "tuOe1ymfHZPu"
      },
      "outputs": [],
      "source": [
        "# @title Licensed under the Apache License, Version 2.0 (the \"License\");\n",
        "# you may not use this file except in compliance with the License.\n",
        "# You may obtain a copy of the License at\n",
        "#\n",
        "# https://www.apache.org/licenses/LICENSE-2.0\n",
        "#\n",
        "# Unless required by applicable law or agreed to in writing, software\n",
        "# distributed under the License is distributed on an \"AS IS\" BASIS,\n",
        "# WITHOUT WARRANTIES OR CONDITIONS OF ANY KIND, either express or implied.\n",
        "# See the License for the specific language governing permissions and\n",
        "# limitations under the License."
      ]
    },
    {
      "cell_type": "markdown",
      "metadata": {
        "id": "FKwyTRdwB8aW"
      },
      "source": [
        "## Setup"
      ]
    },
    {
      "cell_type": "code",
      "execution_count": null,
      "metadata": {
        "id": "RXInneX6xx7c"
      },
      "outputs": [],
      "source": [
        "!pip install -U -q \"google-generativeai>=0.8.2\""
      ]
    },
    {
      "cell_type": "code",
      "execution_count": 1,
      "metadata": {
        "id": "kWIuwKG2_oWE",
        "colab": {
          "base_uri": "https://localhost:8080/"
        },
        "collapsed": true,
        "outputId": "d5b100c6-65e4-4bb8-ef62-a5c865ef6242"
      },
      "outputs": [
        {
          "output_type": "stream",
          "name": "stdout",
          "text": [
            "[\n",
            "    {\n",
            "        \"role\": \"user\",\n",
            "        \"parts\": [\n",
            "            {\n",
            "                \"text\": \"What is bigger, 9.9 or 9.11?\"\n",
            "            }\n",
            "        ]\n",
            "    },\n",
            "    {\n",
            "        \"role\": \"model\",\n",
            "        \"parts\": [\n",
            "            {\n",
            "                \"text\": \"1. **Identify the core question:** The question asks for a comparison between two decimal numbers: 9.9 and 9.11.\\\\n\\\\n2. **Focus on the differing parts:**  Both numbers share the whole number part (9). The difference lies in the decimal part.\\\\n\\\\n3. **Compare the tenths place:** The first decimal place (tenths) is 9 in 9.9 and 1 in 9.11. Since 9 is greater than 1, one might initially think 9.9 is larger.\\\\n\\\\n4. **Realize the importance of place value:** The number of decimal places matters. To make a fair comparison of the decimal parts, we need them to have the same number of digits.\\\\n\\\\n5. **Add a trailing zero:**  We can rewrite 9.9 as 9.90 without changing its value. Now we have 9.90 and 9.11.\\\\n\\\\n6. **Compare the decimal parts directly:**  Now we compare 90 and 11. Clearly, 90 is greater than 11.\\\\n\\\\n7. **Conclude:** Since the decimal part of 9.90 is larger than the decimal part of 9.11, and the whole number parts are the same, 9.9 is bigger than 9.11.\"\n",
            "            },\n",
            "            {\n",
            "                \"text\": \"To determine which number is bigger, we compare their values.\\\\n\\\\nBoth numbers have the same whole number part, which is 9. So, we need to compare the decimal parts.\\\\n\\\\nFor 9.9, the decimal part is 9. We can think of this as 9 tenths.\\\\nFor 9.11, the decimal part is 11. We can think of this as 1 tenth and 1 hundredth.\\\\n\\\\nTo make the comparison easier, we can write 9.9 with two decimal places by adding a trailing zero: 9.90.\\\\n\\\\nNow we compare 9.90 and 9.11. The whole number part is the same. We compare the decimal parts:\\\\n\\\\n* 90 (from 9.90)\\\\n* 11 (from 9.11)\\\\n\\\\nSince 90 is greater than 11, 9.90 is greater than 9.11.\\\\n\\\\nTherefore, **9.9 is bigger than 9.11**.\\\\n\"\n",
            "            }\n",
            "        ]\n",
            "    },\n",
            "    {\n",
            "        \"role\": \"user\",\n",
            "        \"parts\": [\n",
            "            {\n",
            "                \"text\": \"which is bigger,  0.0 or 0.00? \"\n",
            "            }\n",
            "        ]\n",
            "    },\n",
            "    {\n",
            "        \"role\": \"model\",\n",
            "        \"parts\": [\n",
            "            {\n",
            "                \"text\": \"Here's my thinking process to determine if 0.0 is bigger than 0.00:\\\\n\\\\n1. **Understand the question:** The question asks for a comparison of two decimal numbers: 0.0 and 0.00. The goal is to identify which is \\\\\\\"bigger\\\\\\\".\\\\n\\\\n2. **Initial Observation:**  Both numbers appear to represent nothing. This suggests they might be equal.\\\\n\\\\n3. **Consider the place values:**  Break down the numbers based on their place values:\\\\n\\\\n   * **0.0:**  The first 0 is in the ones place. The second 0 is in the tenths place. This means zero ones and zero tenths.\\\\n\\\\n   * **0.00:** The first 0 is in the ones place. The second 0 is in the tenths place. The third 0 is in the hundredths place. This means zero ones, zero tenths, and zero hundredths.\\\\n\\\\n4. **Numerical Representation:**\\\\n\\\\n   * 0.0 can be written as 0 + (0/10) = 0\\\\n   * 0.00 can be written as 0 + (0/10) + (0/100) = 0\\\\n\\\\n5. **Comparison:** Both numbers evaluate to the same value: 0.\\\\n\\\\n6. **Formal Comparison:**  When comparing numbers, we look for differences in their values. Since both represent zero, there is no difference.\\\\n\\\\n7. **Conclusion:**  Therefore, 0.0 and 0.00 are equal in value. Neither is \\\\\\\"bigger\\\\\\\" than the other.\\\\n\\\\n8. **Refine the answer (address potential nuances):**  While they are numerically equal, it's worth noting how they *might* be perceived in some contexts:\\\\n\\\\n   * **Precision:**  In some scientific or computational contexts, 0.00 might imply a higher level of precision or measurement than 0.0. However, in terms of the actual numerical value, they are the same.\\\\n\\\\n   * **Trailing Zeros:** Trailing zeros after a decimal point do not change the value of the number. They can sometimes indicate precision, but in terms of magnitude, they are equivalent.\\\\n\\\\nTherefore, the most accurate and direct answer is that they are equal.\"\n",
            "            },\n",
            "            {\n",
            "                \"text\": \"0.0 and 0.00 are **equal**.\\\\n\\\\nHere's why:\\\\n\\\\n* **Value:** Both represent zero and zero tenths, and in the case of 0.00, zero hundredths as well.\\\\n* **Trailing Zeros:** Trailing zeros after the decimal point do not change the value of a number. 0.00 is simply a more precise way of writing 0.0, implying measurement to the hundredths place.\\\\n\\\\nThink of it like this:\\\\n\\\\n* 0.0 means zero.\\\\n* 0.00 also means zero.\\\\n\\\\nTherefore, neither is bigger than the other; they are the same.\\\\n\"\n",
            "            }\n",
            "        ]\n",
            "    }\n",
            "]\n"
          ]
        }
      ],
      "source": [
        "# import necessary modules.\n",
        "import base64\n",
        "import copy\n",
        "import json\n",
        "import pathlib\n",
        "import requests\n",
        "\n",
        "\n",
        "import PIL.Image\n",
        "import IPython.display\n",
        "from IPython.display import Markdown\n",
        "\n",
        "try:\n",
        "    # The SDK will automatically read it from the GOOGLE_API_KEY environment variable.\n",
        "    # In Colab get the key from Colab-secrets (\"🔑\" in the left panel).\n",
        "    import os\n",
        "    from google.colab import userdata\n",
        "\n",
        "    os.environ[\"GOOGLE_API_KEY\"] = userdata.get(\"GOOGLE_API_KEY\")\n",
        "except ImportError:\n",
        "    pass\n",
        "\n",
        "import google.generativeai as genai\n",
        "\n",
        "# Parse the arguments\n",
        "\n",
        "model = 'gemini-2.0-flash-thinking-exp-1219' # @param {isTemplate: true}\n",
        "contents_b64 = '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' # @param {isTemplate: true}\n",
        "generation_config_b64 = 'eyJ0ZW1wZXJhdHVyZSI6MSwidG9wX3AiOjAuOTUsInRvcF9rIjo2NCwibWF4X291dHB1dF90b2tlbnMiOjgxOTJ9' # @param {isTemplate: true}\n",
        "safety_settings_b64 = \"e30=\"  # @param {isTemplate: true}\n",
        "\n",
        "gais_contents = json.loads(base64.b64decode(contents_b64))\n",
        "\n",
        "generation_config = json.loads(base64.b64decode(generation_config_b64))\n",
        "safety_settings = json.loads(base64.b64decode(safety_settings_b64))\n",
        "\n",
        "stream = False\n",
        "\n",
        "# Convert and upload the files\n",
        "\n",
        "tempfiles = pathlib.Path(f\"tempfiles\")\n",
        "tempfiles.mkdir(parents=True, exist_ok=True)\n",
        "\n",
        "\n",
        "drive = None\n",
        "def upload_file_data(file_data, index):\n",
        "    \"\"\"Upload files to the Files API.\n",
        "\n",
        "    For each file, Google AI Studio either sent:\n",
        "    - a Google Drive ID,\n",
        "    - a URL,\n",
        "    - a file path, or\n",
        "    - The raw bytes (`inline_data`).\n",
        "\n",
        "    The API only understands `inline_data` or it's Files API.\n",
        "    This code, uploads files to the files API where the API can access them.\n",
        "    \"\"\"\n",
        "\n",
        "    mime_type = file_data[\"mime_type\"]\n",
        "    if drive_id := file_data.pop(\"drive_id\", None):\n",
        "        if drive is None:\n",
        "          from google.colab import drive\n",
        "          drive.mount(\"/gdrive\")\n",
        "\n",
        "        path = next(\n",
        "            pathlib.Path(f\"/gdrive/.shortcut-targets-by-id/{drive_id}\").glob(\"*\")\n",
        "        )\n",
        "        print(\"Uploading:\", str(path))\n",
        "        file_info = genai.upload_file(path=path, mime_type=mime_type)\n",
        "        file_data[\"file_uri\"] = file_info.uri\n",
        "        return\n",
        "\n",
        "    if url := file_data.pop(\"url\", None):\n",
        "        response = requests.get(url)\n",
        "        data = response.content\n",
        "        name = url.split(\"/\")[-1]\n",
        "        path = tempfiles / str(index)\n",
        "        path.write_bytes(data)\n",
        "        print(\"Uploading:\", url)\n",
        "        file_info = genai.upload_file(path, display_name=name, mime_type=mime_type)\n",
        "        file_data[\"file_uri\"] = file_info.uri\n",
        "        return\n",
        "\n",
        "    if name := file_data.get(\"filename\", None):\n",
        "        if not pathlib.Path(name).exists():\n",
        "            raise IOError(\n",
        "                f\"local file: `{name}` does not exist. You can upload files \"\n",
        "                'to Colab using the file manager (\"📁 Files\" in the left '\n",
        "                \"toolbar)\"\n",
        "            )\n",
        "        file_info = genai.upload_file(path, display_name=name, mime_type=mime_type)\n",
        "        file_data[\"file_uri\"] = file_info.uri\n",
        "        return\n",
        "\n",
        "    if \"inline_data\" in file_data:\n",
        "        return\n",
        "\n",
        "    raise ValueError(\"Either `drive_id`, `url` or `inline_data` must be provided.\")\n",
        "\n",
        "\n",
        "contents = copy.deepcopy(gais_contents)\n",
        "\n",
        "index = 0\n",
        "for content in contents:\n",
        "    for n, part in enumerate(content[\"parts\"]):\n",
        "        if file_data := part.get(\"file_data\", None):\n",
        "            upload_file_data(file_data, index)\n",
        "            index += 1\n",
        "\n",
        "import json\n",
        "print(json.dumps(contents, indent=4))"
      ]
    },
    {
      "cell_type": "markdown",
      "metadata": {
        "id": "E7zAD69vE92b"
      },
      "source": [
        "## Call `generate_content`"
      ]
    },
    {
      "cell_type": "code",
      "execution_count": 6,
      "metadata": {
        "id": "LB2LxPmAB95V",
        "colab": {
          "base_uri": "https://localhost:8080/",
          "height": 1000
        },
        "outputId": "5a0404da-965a-49ad-fe10-7b67808394e5"
      },
      "outputs": [
        {
          "metadata": {
            "tags": null
          },
          "name": "stdout",
          "output_type": "stream",
          "text": [
            "i'm here\n",
            "contents= [{'role': 'user', 'parts': [{'text': 'What is bigger, 99.9 or 9.11?'}]}]\n",
            "response= response:\n",
            "GenerateContentResponse(\n",
            "    done=True,\n",
            "    iterator=None,\n",
            "    result=protos.GenerateContentResponse({\n",
            "      \"candidates\": [\n",
            "        {\n",
            "          \"content\": {\n",
            "            \"parts\": [\n",
            "              {\n",
            "                \"text\": \"1. **Analyze the question:** The question asks which of two numbers, 99.9 and 9.11, is bigger. This is a straightforward comparison of numerical values.\\n\\n2. **Identify the numbers:** The two numbers are 99.9 and 9.11.\\n\\n3. **Compare the whole number parts:**  The whole number part of 99.9 is 99. The whole number part of 9.11 is 9. Since 99 is greater than 9, we can immediately conclude that 99.9 is bigger than 9.11.\\n\\n4. **Consider the decimal parts (for completeness/confirmation):** While the whole number comparison is sufficient, we can also look at the decimal parts. Even if the whole number parts were the same, we would compare the tenths place, then the hundredths place, and so on. In this case, the decimal parts are irrelevant to the comparison because the whole number parts differ.\\n\\n5. **State the conclusion:** Based on the comparison, 99.9 is bigger than 9.11.\"\n",
            "              },\n",
            "              {\n",
            "                \"text\": \"**99.9** is bigger than 9.11.\\n\\nThink of it this way:\\n\\n* 99.9 is almost 100.\\n* 9.11 is a little more than 9.\\n\\n100 is much larger than 9.\\n\"\n",
            "              }\n",
            "            ],\n",
            "            \"role\": \"model\"\n",
            "          },\n",
            "          \"finish_reason\": \"STOP\",\n",
            "          \"index\": 0,\n",
            "          \"safety_ratings\": [\n",
            "            {\n",
            "              \"category\": \"HARM_CATEGORY_SEXUALLY_EXPLICIT\",\n",
            "              \"probability\": \"NEGLIGIBLE\"\n",
            "            },\n",
            "            {\n",
            "              \"category\": \"HARM_CATEGORY_HATE_SPEECH\",\n",
            "              \"probability\": \"NEGLIGIBLE\"\n",
            "            },\n",
            "            {\n",
            "              \"category\": \"HARM_CATEGORY_HARASSMENT\",\n",
            "              \"probability\": \"NEGLIGIBLE\"\n",
            "            },\n",
            "            {\n",
            "              \"category\": \"HARM_CATEGORY_DANGEROUS_CONTENT\",\n",
            "              \"probability\": \"NEGLIGIBLE\"\n",
            "            }\n",
            "          ]\n",
            "        }\n",
            "      ],\n",
            "      \"usage_metadata\": {\n",
            "        \"prompt_token_count\": 17,\n",
            "        \"candidates_token_count\": 302,\n",
            "        \"total_token_count\": 319\n",
            "      }\n",
            "    }),\n",
            ")\n",
            "response text= 1. **Analyze the question:** The question asks which of two numbers, 99.9 and 9.11, is bigger. This is a straightforward comparison of numerical values.\n",
            "\n",
            "2. **Identify the numbers:** The two numbers are 99.9 and 9.11.\n",
            "\n",
            "3. **Compare the whole number parts:**  The whole number part of 99.9 is 99. The whole number part of 9.11 is 9. Since 99 is greater than 9, we can immediately conclude that 99.9 is bigger than 9.11.\n",
            "\n",
            "4. **Consider the decimal parts (for completeness/confirmation):** While the whole number comparison is sufficient, we can also look at the decimal parts. Even if the whole number parts were the same, we would compare the tenths place, then the hundredths place, and so on. In this case, the decimal parts are irrelevant to the comparison because the whole number parts differ.\n",
            "\n",
            "5. **State the conclusion:** Based on the comparison, 99.9 is bigger than 9.11.\n",
            "**99.9** is bigger than 9.11.\n",
            "\n",
            "Think of it this way:\n",
            "\n",
            "* 99.9 is almost 100.\n",
            "* 9.11 is a little more than 9.\n",
            "\n",
            "100 is much larger than 9.\n",
            " \n",
            "********end****\n"
          ]
        },
        {
          "data": {
            "text/markdown": "1. **Analyze the question:** The question asks which of two numbers, 99.9 and 9.11, is bigger. This is a straightforward comparison of numerical values.\n\n2. **Identify the numbers:** The two numbers are 99.9 and 9.11.\n\n3. **Compare the whole number parts:**  The whole number part of 99.9 is 99. The whole number part of 9.11 is 9. Since 99 is greater than 9, we can immediately conclude that 99.9 is bigger than 9.11.\n\n4. **Consider the decimal parts (for completeness/confirmation):** While the whole number comparison is sufficient, we can also look at the decimal parts. Even if the whole number parts were the same, we would compare the tenths place, then the hundredths place, and so on. In this case, the decimal parts are irrelevant to the comparison because the whole number parts differ.\n\n5. **State the conclusion:** Based on the comparison, 99.9 is bigger than 9.11.\n**99.9** is bigger than 9.11.\n\nThink of it this way:\n\n* 99.9 is almost 100.\n* 9.11 is a little more than 9.\n\n100 is much larger than 9.\n",
            "text/plain": [
              "<IPython.core.display.Markdown object>"
            ]
          },
          "metadata": {},
          "output_type": "display_data"
        }
      ],
      "source": [
        "from IPython.display import display\n",
        "from IPython.display import Markdown\n",
        "\n",
        "# Call the model and print the response.\n",
        "gemini = genai.GenerativeModel(model_name=model)\n",
        "\n",
        "contents = [{'role': 'user', 'parts': [{'text': 'What is bigger, 99.9 or 9.11?'}]}]\n",
        "response = gemini.generate_content(\n",
        "    contents,\n",
        "    generation_config=generation_config,\n",
        "    safety_settings=safety_settings,\n",
        "    stream=stream,\n",
        ")\n",
        "\n",
        "print(\"i'm here\")\n",
        "print(\"contents=\", contents)\n",
        "print(\"response=\", response)\n",
        "print(\"response text=\", response.text, \"\\n********end****\")\n",
        "display(Markdown(response.text))"
      ]
    },
    {
      "cell_type": "markdown",
      "metadata": {
        "id": "9c9d345e9868"
      },
      "source": [
        "<table class=\"tfo-notebook-buttons\" align=\"left\">\n",
        "  <td>\n",
        "    <a target=\"_blank\" href=\"https://ai.google.dev/gemini-api/docs\"><img src=\"https://ai.google.dev/static/site-assets/images/docs/notebook-site-button.png\" height=\"32\" width=\"32\" />Docs on ai.google.dev</a>\n",
        "  </td>\n",
        "  <td>\n",
        "    <a target=\"_blank\" href=\"https://github.com/google-gemini/cookbook/blob/main/quickstarts\"><img src=\"https://www.tensorflow.org/images/GitHub-Mark-32px.png\" />More notebooks in the Cookbook</a>\n",
        "  </td>\n",
        "</table>"
      ]
    },
    {
      "cell_type": "markdown",
      "metadata": {
        "id": "F91AeeGO1ncU"
      },
      "source": [
        "## [optional] Show the conversation\n",
        "\n",
        "This section displays the conversation received from Google AI Studio."
      ]
    },
    {
      "cell_type": "code",
      "execution_count": 7,
      "metadata": {
        "id": "yoL3p3KPylFW",
        "colab": {
          "base_uri": "https://localhost:8080/"
        },
        "outputId": "0e754432-b91b-4460-f807-109ecafac621"
      },
      "outputs": [
        {
          "output_type": "stream",
          "name": "stdout",
          "text": [
            "Role: user \n",
            "\n",
            "What is bigger, 9.9 or 9.11? \n",
            "\n",
            "-------------------------------------------------------------------------------- \n",
            "\n",
            "Role: model \n",
            "\n",
            "1. **Identify the core question:** The question asks for a comparison between two decimal numbers: 9.9 and 9.11.\\n\\n2. **Focus on the differing parts:**  Both numbers share the whole number part (9). The difference lies in the decimal part.\\n\\n3. **Compare the tenths place:** The first decimal place (tenths) is 9 in 9.9 and 1 in 9.11. Since 9 is greater than 1, one might initially think 9.9 is larger.\\n\\n4. **Realize the importance of place value:** The number of decimal places matters. To make a fair comparison of the decimal parts, we need them to have the same number of digits.\\n\\n5. **Add a trailing zero:**  We can rewrite 9.9 as 9.90 without changing its value. Now we have 9.90 and 9.11.\\n\\n6. **Compare the decimal parts directly:**  Now we compare 90 and 11. Clearly, 90 is greater than 11.\\n\\n7. **Conclude:** Since the decimal part of 9.90 is larger than the decimal part of 9.11, and the whole number parts are the same, 9.9 is bigger than 9.11. \n",
            "\n",
            "To determine which number is bigger, we compare their values.\\n\\nBoth numbers have the same whole number part, which is 9. So, we need to compare the decimal parts.\\n\\nFor 9.9, the decimal part is 9. We can think of this as 9 tenths.\\nFor 9.11, the decimal part is 11. We can think of this as 1 tenth and 1 hundredth.\\n\\nTo make the comparison easier, we can write 9.9 with two decimal places by adding a trailing zero: 9.90.\\n\\nNow we compare 9.90 and 9.11. The whole number part is the same. We compare the decimal parts:\\n\\n* 90 (from 9.90)\\n* 11 (from 9.11)\\n\\nSince 90 is greater than 11, 9.90 is greater than 9.11.\\n\\nTherefore, **9.9 is bigger than 9.11**.\\n \n",
            "\n",
            "-------------------------------------------------------------------------------- \n",
            "\n",
            "Role: user \n",
            "\n",
            "which is bigger,  0.0 or 0.00?  \n",
            "\n",
            "-------------------------------------------------------------------------------- \n",
            "\n",
            "Role: model \n",
            "\n",
            "Here's my thinking process to determine if 0.0 is bigger than 0.00:\\n\\n1. **Understand the question:** The question asks for a comparison of two decimal numbers: 0.0 and 0.00. The goal is to identify which is \\\"bigger\\\".\\n\\n2. **Initial Observation:**  Both numbers appear to represent nothing. This suggests they might be equal.\\n\\n3. **Consider the place values:**  Break down the numbers based on their place values:\\n\\n   * **0.0:**  The first 0 is in the ones place. The second 0 is in the tenths place. This means zero ones and zero tenths.\\n\\n   * **0.00:** The first 0 is in the ones place. The second 0 is in the tenths place. The third 0 is in the hundredths place. This means zero ones, zero tenths, and zero hundredths.\\n\\n4. **Numerical Representation:**\\n\\n   * 0.0 can be written as 0 + (0/10) = 0\\n   * 0.00 can be written as 0 + (0/10) + (0/100) = 0\\n\\n5. **Comparison:** Both numbers evaluate to the same value: 0.\\n\\n6. **Formal Comparison:**  When comparing numbers, we look for differences in their values. Since both represent zero, there is no difference.\\n\\n7. **Conclusion:**  Therefore, 0.0 and 0.00 are equal in value. Neither is \\\"bigger\\\" than the other.\\n\\n8. **Refine the answer (address potential nuances):**  While they are numerically equal, it's worth noting how they *might* be perceived in some contexts:\\n\\n   * **Precision:**  In some scientific or computational contexts, 0.00 might imply a higher level of precision or measurement than 0.0. However, in terms of the actual numerical value, they are the same.\\n\\n   * **Trailing Zeros:** Trailing zeros after a decimal point do not change the value of the number. They can sometimes indicate precision, but in terms of magnitude, they are equivalent.\\n\\nTherefore, the most accurate and direct answer is that they are equal. \n",
            "\n",
            "0.0 and 0.00 are **equal**.\\n\\nHere's why:\\n\\n* **Value:** Both represent zero and zero tenths, and in the case of 0.00, zero hundredths as well.\\n* **Trailing Zeros:** Trailing zeros after the decimal point do not change the value of a number. 0.00 is simply a more precise way of writing 0.0, implying measurement to the hundredths place.\\n\\nThink of it like this:\\n\\n* 0.0 means zero.\\n* 0.00 also means zero.\\n\\nTherefore, neither is bigger than the other; they are the same.\\n \n",
            "\n",
            "-------------------------------------------------------------------------------- \n",
            "\n"
          ]
        }
      ],
      "source": [
        "# @title Show the conversation, in colab.\n",
        "import mimetypes\n",
        "\n",
        "def show_file(file_data):\n",
        "    mime_type = file_data[\"mime_type\"]\n",
        "\n",
        "    if drive_id := file_data.get(\"drive_id\", None):\n",
        "        path = next(\n",
        "            pathlib.Path(f\"/gdrive/.shortcut-targets-by-id/{drive_id}\").glob(\"*\")\n",
        "        )\n",
        "        name = path\n",
        "        # data = path.read_bytes()\n",
        "        kwargs = {\"filename\": path}\n",
        "    elif url := file_data.get(\"url\", None):\n",
        "        name = url\n",
        "        kwargs = {\"url\": url}\n",
        "        # response = requests.get(url)\n",
        "        # data = response.content\n",
        "    elif data := file_data.get(\"inline_data\", None):\n",
        "        name = None\n",
        "        kwargs = {\"data\": data}\n",
        "    elif name := file_data.get(\"filename\", None):\n",
        "        if not pathlib.Path(name).exists():\n",
        "            raise IOError(\n",
        "                f\"local file: `{name}` does not exist. You can upload files to \"\n",
        "                'Colab using the file manager (\"📁 Files\"in the left toolbar)'\n",
        "            )\n",
        "    else:\n",
        "        raise ValueError(\"Either `drive_id`, `url` or `inline_data` must be provided.\")\n",
        "\n",
        "        print(f\"File:\\n    name: {name}\\n    mime_type: {mime_type}\\n\")\n",
        "        return\n",
        "\n",
        "    format = mimetypes.guess_extension(mime_type).strip(\".\")\n",
        "    if mime_type.startswith(\"image/\"):\n",
        "        image = IPython.display.Image(**kwargs, width=256)\n",
        "        IPython.display.display(image)\n",
        "        print()\n",
        "        return\n",
        "\n",
        "    if mime_type.startswith(\"audio/\"):\n",
        "        if len(data) < 2**12:\n",
        "            audio = IPython.display.Audio(**kwargs)\n",
        "            IPython.display.display(audio)\n",
        "            print()\n",
        "            return\n",
        "\n",
        "    if mime_type.startswith(\"video/\"):\n",
        "        if len(data) < 2**12:\n",
        "            audio = IPython.display.Video(**kwargs, mimetype=mime_type)\n",
        "            IPython.display.display(audio)\n",
        "            print()\n",
        "            return\n",
        "\n",
        "    print(f\"File:\\n    name: {name}\\n    mime_type: {mime_type}\\n\")\n",
        "\n",
        "\n",
        "for content in gais_contents:\n",
        "    if role := content.get(\"role\", None):\n",
        "        print(\"Role:\", role, \"\\n\")\n",
        "\n",
        "    for n, part in enumerate(content[\"parts\"]):\n",
        "        if text := part.get(\"text\", None):\n",
        "            print(text, \"\\n\")\n",
        "\n",
        "        elif file_data := part.get(\"file_data\", None):\n",
        "            show_file(file_data)\n",
        "\n",
        "    print(\"-\" * 80, \"\\n\")"
      ]
    }
  ],
  "metadata": {
    "colab": {
      "collapsed_sections": [
        "Tce3stUlHN0L"
      ],
      "name": "aistudio_gemini_prompt_freeform.ipynb",
      "toc_visible": true,
      "provenance": [],
      "include_colab_link": true
    },
    "kernelspec": {
      "display_name": "Python 3",
      "name": "python3"
    }
  },
  "nbformat": 4,
  "nbformat_minor": 0
}